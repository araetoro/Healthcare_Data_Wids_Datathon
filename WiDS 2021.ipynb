{
 "cells": [
  {
   "cell_type": "code",
   "execution_count": 2,
   "metadata": {},
   "outputs": [],
   "source": [
    "import pandas as pd\n",
    "import numpy as np\n",
    "import matplotlib.pyplot as plt\n",
    "import seaborn as sns\n",
    "#import category_encoders as ce\n",
    "\n",
    "from sklearn.model_selection import train_test_split\n",
    "from sklearn.preprocessing import StandardScaler\n",
    "from sklearn.metrics import confusion_matrix\n",
    "from sklearn.metrics import classification_report\n",
    "#from sklearn.decomposition  import FactorAnalysis"
   ]
  },
  {
   "cell_type": "code",
   "execution_count": 3,
   "metadata": {},
   "outputs": [
    {
     "data": {
      "text/plain": [
       "20"
      ]
     },
     "execution_count": 3,
     "metadata": {},
     "output_type": "execute_result"
    }
   ],
   "source": [
    "pd.options.display.max_rows=500\n",
    "pd.options.display.max_columns"
   ]
  },
  {
   "cell_type": "code",
   "execution_count": 4,
   "metadata": {},
   "outputs": [],
   "source": [
    "train_df = pd.read_csv(\"TrainingWiDS2021.csv\")\n",
    "#test_df = pd.read_csv(\"UnlabeledWiDS2021.csv\")"
   ]
  },
  {
   "cell_type": "code",
   "execution_count": 5,
   "metadata": {},
   "outputs": [],
   "source": [
    "#droping catagorical and id related data\n",
    "train_df.drop(['hospital_id', 'hospital_admit_source', 'icu_id', 'readmission_status', 'gender', 'ethnicity', 'icu_admit_source', 'icu_admit_source','icu_admit_source','icu_stay_type','icu_type'], axis = 1, inplace = True)"
   ]
  },
  {
   "cell_type": "code",
   "execution_count": 6,
   "metadata": {},
   "outputs": [
    {
     "data": {
      "text/html": [
       "<div>\n",
       "<style scoped>\n",
       "    .dataframe tbody tr th:only-of-type {\n",
       "        vertical-align: middle;\n",
       "    }\n",
       "\n",
       "    .dataframe tbody tr th {\n",
       "        vertical-align: top;\n",
       "    }\n",
       "\n",
       "    .dataframe thead th {\n",
       "        text-align: right;\n",
       "    }\n",
       "</style>\n",
       "<table border=\"1\" class=\"dataframe\">\n",
       "  <thead>\n",
       "    <tr style=\"text-align: right;\">\n",
       "      <th></th>\n",
       "      <th>Unnamed: 0</th>\n",
       "      <th>encounter_id</th>\n",
       "      <th>age</th>\n",
       "      <th>bmi</th>\n",
       "      <th>elective_surgery</th>\n",
       "      <th>height</th>\n",
       "      <th>pre_icu_los_days</th>\n",
       "      <th>weight</th>\n",
       "      <th>albumin_apache</th>\n",
       "      <th>apache_2_diagnosis</th>\n",
       "      <th>...</th>\n",
       "      <th>h1_pao2fio2ratio_max</th>\n",
       "      <th>h1_pao2fio2ratio_min</th>\n",
       "      <th>aids</th>\n",
       "      <th>cirrhosis</th>\n",
       "      <th>hepatic_failure</th>\n",
       "      <th>immunosuppression</th>\n",
       "      <th>leukemia</th>\n",
       "      <th>lymphoma</th>\n",
       "      <th>solid_tumor_with_metastasis</th>\n",
       "      <th>diabetes_mellitus</th>\n",
       "    </tr>\n",
       "  </thead>\n",
       "  <tbody>\n",
       "    <tr>\n",
       "      <th>0</th>\n",
       "      <td>1</td>\n",
       "      <td>214826</td>\n",
       "      <td>68.0</td>\n",
       "      <td>22.732803</td>\n",
       "      <td>0</td>\n",
       "      <td>180.3</td>\n",
       "      <td>0.541667</td>\n",
       "      <td>73.9</td>\n",
       "      <td>2.3</td>\n",
       "      <td>113.0</td>\n",
       "      <td>...</td>\n",
       "      <td>NaN</td>\n",
       "      <td>NaN</td>\n",
       "      <td>0</td>\n",
       "      <td>0</td>\n",
       "      <td>0</td>\n",
       "      <td>0</td>\n",
       "      <td>0</td>\n",
       "      <td>0</td>\n",
       "      <td>0</td>\n",
       "      <td>1</td>\n",
       "    </tr>\n",
       "    <tr>\n",
       "      <th>1</th>\n",
       "      <td>2</td>\n",
       "      <td>246060</td>\n",
       "      <td>77.0</td>\n",
       "      <td>27.421875</td>\n",
       "      <td>0</td>\n",
       "      <td>160.0</td>\n",
       "      <td>0.927778</td>\n",
       "      <td>70.2</td>\n",
       "      <td>NaN</td>\n",
       "      <td>108.0</td>\n",
       "      <td>...</td>\n",
       "      <td>51.0</td>\n",
       "      <td>51.0</td>\n",
       "      <td>0</td>\n",
       "      <td>0</td>\n",
       "      <td>0</td>\n",
       "      <td>0</td>\n",
       "      <td>0</td>\n",
       "      <td>0</td>\n",
       "      <td>0</td>\n",
       "      <td>1</td>\n",
       "    </tr>\n",
       "    <tr>\n",
       "      <th>2</th>\n",
       "      <td>3</td>\n",
       "      <td>276985</td>\n",
       "      <td>25.0</td>\n",
       "      <td>31.952749</td>\n",
       "      <td>0</td>\n",
       "      <td>172.7</td>\n",
       "      <td>0.000694</td>\n",
       "      <td>95.3</td>\n",
       "      <td>NaN</td>\n",
       "      <td>122.0</td>\n",
       "      <td>...</td>\n",
       "      <td>NaN</td>\n",
       "      <td>NaN</td>\n",
       "      <td>0</td>\n",
       "      <td>0</td>\n",
       "      <td>0</td>\n",
       "      <td>0</td>\n",
       "      <td>0</td>\n",
       "      <td>0</td>\n",
       "      <td>0</td>\n",
       "      <td>0</td>\n",
       "    </tr>\n",
       "    <tr>\n",
       "      <th>3</th>\n",
       "      <td>4</td>\n",
       "      <td>262220</td>\n",
       "      <td>81.0</td>\n",
       "      <td>22.635548</td>\n",
       "      <td>1</td>\n",
       "      <td>165.1</td>\n",
       "      <td>0.000694</td>\n",
       "      <td>61.7</td>\n",
       "      <td>NaN</td>\n",
       "      <td>203.0</td>\n",
       "      <td>...</td>\n",
       "      <td>337.0</td>\n",
       "      <td>337.0</td>\n",
       "      <td>0</td>\n",
       "      <td>0</td>\n",
       "      <td>0</td>\n",
       "      <td>0</td>\n",
       "      <td>0</td>\n",
       "      <td>0</td>\n",
       "      <td>0</td>\n",
       "      <td>0</td>\n",
       "    </tr>\n",
       "    <tr>\n",
       "      <th>4</th>\n",
       "      <td>5</td>\n",
       "      <td>201746</td>\n",
       "      <td>19.0</td>\n",
       "      <td>NaN</td>\n",
       "      <td>0</td>\n",
       "      <td>188.0</td>\n",
       "      <td>0.073611</td>\n",
       "      <td>NaN</td>\n",
       "      <td>NaN</td>\n",
       "      <td>119.0</td>\n",
       "      <td>...</td>\n",
       "      <td>NaN</td>\n",
       "      <td>NaN</td>\n",
       "      <td>0</td>\n",
       "      <td>0</td>\n",
       "      <td>0</td>\n",
       "      <td>0</td>\n",
       "      <td>0</td>\n",
       "      <td>0</td>\n",
       "      <td>0</td>\n",
       "      <td>0</td>\n",
       "    </tr>\n",
       "  </tbody>\n",
       "</table>\n",
       "<p>5 rows × 172 columns</p>\n",
       "</div>"
      ],
      "text/plain": [
       "   Unnamed: 0  encounter_id   age        bmi  elective_surgery  height  \\\n",
       "0           1        214826  68.0  22.732803                 0   180.3   \n",
       "1           2        246060  77.0  27.421875                 0   160.0   \n",
       "2           3        276985  25.0  31.952749                 0   172.7   \n",
       "3           4        262220  81.0  22.635548                 1   165.1   \n",
       "4           5        201746  19.0        NaN                 0   188.0   \n",
       "\n",
       "   pre_icu_los_days  weight  albumin_apache  apache_2_diagnosis  ...  \\\n",
       "0          0.541667    73.9             2.3               113.0  ...   \n",
       "1          0.927778    70.2             NaN               108.0  ...   \n",
       "2          0.000694    95.3             NaN               122.0  ...   \n",
       "3          0.000694    61.7             NaN               203.0  ...   \n",
       "4          0.073611     NaN             NaN               119.0  ...   \n",
       "\n",
       "   h1_pao2fio2ratio_max  h1_pao2fio2ratio_min  aids  cirrhosis  \\\n",
       "0                   NaN                   NaN     0          0   \n",
       "1                  51.0                  51.0     0          0   \n",
       "2                   NaN                   NaN     0          0   \n",
       "3                 337.0                 337.0     0          0   \n",
       "4                   NaN                   NaN     0          0   \n",
       "\n",
       "   hepatic_failure  immunosuppression  leukemia  lymphoma  \\\n",
       "0                0                  0         0         0   \n",
       "1                0                  0         0         0   \n",
       "2                0                  0         0         0   \n",
       "3                0                  0         0         0   \n",
       "4                0                  0         0         0   \n",
       "\n",
       "   solid_tumor_with_metastasis  diabetes_mellitus  \n",
       "0                            0                  1  \n",
       "1                            0                  1  \n",
       "2                            0                  0  \n",
       "3                            0                  0  \n",
       "4                            0                  0  \n",
       "\n",
       "[5 rows x 172 columns]"
      ]
     },
     "execution_count": 6,
     "metadata": {},
     "output_type": "execute_result"
    }
   ],
   "source": [
    "train_df.head()"
   ]
  },
  {
   "cell_type": "code",
   "execution_count": 7,
   "metadata": {},
   "outputs": [],
   "source": [
    "train_df = train_df.iloc[:,1:]"
   ]
  },
  {
   "cell_type": "code",
   "execution_count": 8,
   "metadata": {},
   "outputs": [
    {
     "name": "stdout",
     "output_type": "stream",
     "text": [
      "<class 'pandas.core.frame.DataFrame'>\n",
      "RangeIndex: 130157 entries, 0 to 130156\n",
      "Columns: 171 entries, encounter_id to diabetes_mellitus\n",
      "dtypes: float64(157), int64(14)\n",
      "memory usage: 169.8 MB\n",
      "None\n"
     ]
    }
   ],
   "source": [
    "print(train_df.info())\n",
    "#print(test_df.info())"
   ]
  },
  {
   "cell_type": "code",
   "execution_count": 9,
   "metadata": {},
   "outputs": [
    {
     "data": {
      "text/plain": [
       "encounter_id                        0\n",
       "age                              4988\n",
       "bmi                              4490\n",
       "elective_surgery                    0\n",
       "height                           2077\n",
       "pre_icu_los_days                    0\n",
       "weight                           3463\n",
       "albumin_apache                  78163\n",
       "apache_2_diagnosis               1685\n",
       "apache_3j_diagnosis               865\n",
       "apache_post_operative               0\n",
       "arf_apache                          0\n",
       "bilirubin_apache                82560\n",
       "bun_apache                      25411\n",
       "creatinine_apache               24882\n",
       "fio2_apache                     99720\n",
       "gcs_eyes_apache                  2190\n",
       "gcs_motor_apache                 2190\n",
       "gcs_unable_apache                 709\n",
       "gcs_verbal_apache                2190\n",
       "glucose_apache                  14696\n",
       "heart_rate_apache                 309\n",
       "hematocrit_apache               26758\n",
       "intubated_apache                    0\n",
       "map_apache                        420\n",
       "paco2_apache                    99720\n",
       "paco2_for_ph_apache             99720\n",
       "pao2_apache                     99720\n",
       "ph_apache                       99720\n",
       "resprate_apache                   808\n",
       "sodium_apache                   24519\n",
       "temp_apache                      6611\n",
       "urineoutput_apache              63167\n",
       "ventilated_apache                   0\n",
       "wbc_apache                      29475\n",
       "d1_diasbp_invasive_max          95068\n",
       "d1_diasbp_invasive_min          95068\n",
       "d1_diasbp_max                     277\n",
       "d1_diasbp_min                     277\n",
       "d1_diasbp_noninvasive_max        1636\n",
       "d1_diasbp_noninvasive_min        1636\n",
       "d1_heartrate_max                  262\n",
       "d1_heartrate_min                  262\n",
       "d1_mbp_invasive_max             94868\n",
       "d1_mbp_invasive_min             94868\n",
       "d1_mbp_max                        327\n",
       "d1_mbp_min                        327\n",
       "d1_mbp_noninvasive_max           2228\n",
       "d1_mbp_noninvasive_min           2228\n",
       "d1_resprate_max                   683\n",
       "d1_resprate_min                   683\n",
       "d1_spo2_max                       532\n",
       "d1_spo2_min                       532\n",
       "d1_sysbp_invasive_max           95038\n",
       "d1_sysbp_invasive_min           95038\n",
       "d1_sysbp_max                      271\n",
       "d1_sysbp_min                      271\n",
       "d1_sysbp_noninvasive_max         1623\n",
       "d1_sysbp_noninvasive_min         1623\n",
       "d1_temp_max                      4494\n",
       "d1_temp_min                      4494\n",
       "h1_diasbp_invasive_max         104829\n",
       "h1_diasbp_invasive_min         104829\n",
       "h1_diasbp_max                    5527\n",
       "h1_diasbp_min                    5527\n",
       "h1_diasbp_noninvasive_max       11339\n",
       "h1_diasbp_noninvasive_min       11339\n",
       "h1_heartrate_max                 4074\n",
       "h1_heartrate_min                 4074\n",
       "h1_mbp_invasive_max            104766\n",
       "h1_mbp_invasive_min            104766\n",
       "h1_mbp_max                       6530\n",
       "h1_mbp_min                       6530\n",
       "h1_mbp_noninvasive_max          13297\n",
       "h1_mbp_noninvasive_min          13297\n",
       "h1_resprate_max                  6454\n",
       "h1_resprate_min                  6454\n",
       "h1_spo2_max                      6242\n",
       "h1_spo2_min                      6242\n",
       "h1_sysbp_invasive_max          104807\n",
       "h1_sysbp_invasive_min          104807\n",
       "h1_sysbp_max                     5519\n",
       "h1_sysbp_min                     5519\n",
       "h1_sysbp_noninvasive_max        11330\n",
       "h1_sysbp_noninvasive_min        11330\n",
       "h1_temp_max                     29703\n",
       "h1_temp_min                     29703\n",
       "d1_albumin_max                  71406\n",
       "d1_albumin_min                  71406\n",
       "d1_bilirubin_max                76735\n",
       "d1_bilirubin_min                76735\n",
       "d1_bun_max                      13734\n",
       "d1_bun_min                      13734\n",
       "d1_calcium_max                  16692\n",
       "d1_calcium_min                  16692\n",
       "d1_creatinine_max               13273\n",
       "d1_creatinine_min               13273\n",
       "d1_glucose_max                   8243\n",
       "d1_glucose_min                   8243\n",
       "d1_hco3_max                     20047\n",
       "d1_hco3_min                     20047\n",
       "d1_hemaglobin_max               16232\n",
       "d1_hemaglobin_min               16232\n",
       "d1_hematocrit_max               15588\n",
       "d1_hematocrit_min               15588\n",
       "d1_inr_max                      81213\n",
       "d1_inr_min                      81213\n",
       "d1_lactate_max                  95503\n",
       "d1_lactate_min                  95503\n",
       "d1_platelets_max                18557\n",
       "d1_platelets_min                18557\n",
       "d1_potassium_max                12546\n",
       "d1_potassium_min                12546\n",
       "d1_sodium_max                   13270\n",
       "d1_sodium_min                   13270\n",
       "d1_wbc_max                      17429\n",
       "d1_wbc_min                      17429\n",
       "h1_albumin_max                 119005\n",
       "h1_albumin_min                 119005\n",
       "h1_bilirubin_max               119861\n",
       "h1_bilirubin_min               119861\n",
       "h1_bun_max                     104990\n",
       "h1_bun_min                     104990\n",
       "h1_calcium_max                 105921\n",
       "h1_calcium_min                 105921\n",
       "h1_creatinine_max              104784\n",
       "h1_creatinine_min              104784\n",
       "h1_glucose_max                  75073\n",
       "h1_glucose_min                  75073\n",
       "h1_hco3_max                    106395\n",
       "h1_hco3_min                    106395\n",
       "h1_hemaglobin_max              102790\n",
       "h1_hemaglobin_min              102790\n",
       "h1_hematocrit_max              102956\n",
       "h1_hematocrit_min              102956\n",
       "h1_inr_max                      81213\n",
       "h1_inr_min                      81213\n",
       "h1_lactate_max                 118467\n",
       "h1_lactate_min                 118467\n",
       "h1_platelets_max               105729\n",
       "h1_platelets_min               105729\n",
       "h1_potassium_max               100821\n",
       "h1_potassium_min               100821\n",
       "h1_sodium_max                  101781\n",
       "h1_sodium_min                  101781\n",
       "h1_wbc_max                     105986\n",
       "h1_wbc_min                     105986\n",
       "d1_arterial_pco2_max            84461\n",
       "d1_arterial_pco2_min            84461\n",
       "d1_arterial_ph_max              84807\n",
       "d1_arterial_ph_min              84807\n",
       "d1_arterial_po2_max             84010\n",
       "d1_arterial_po2_min             84010\n",
       "d1_pao2fio2ratio_max            93339\n",
       "d1_pao2fio2ratio_min            93339\n",
       "h1_arterial_pco2_max           107666\n",
       "h1_arterial_pco2_min           107666\n",
       "h1_arterial_ph_max             107849\n",
       "h1_arterial_ph_min             107849\n",
       "h1_arterial_po2_max            107445\n",
       "h1_arterial_po2_min            107445\n",
       "h1_pao2fio2ratio_max           113397\n",
       "h1_pao2fio2ratio_min           113397\n",
       "aids                                0\n",
       "cirrhosis                           0\n",
       "hepatic_failure                     0\n",
       "immunosuppression                   0\n",
       "leukemia                            0\n",
       "lymphoma                            0\n",
       "solid_tumor_with_metastasis         0\n",
       "diabetes_mellitus                   0\n",
       "dtype: int64"
      ]
     },
     "execution_count": 9,
     "metadata": {},
     "output_type": "execute_result"
    }
   ],
   "source": [
    "train_df.isnull().sum()"
   ]
  },
  {
   "cell_type": "code",
   "execution_count": 10,
   "metadata": {},
   "outputs": [
    {
     "data": {
      "text/plain": [
       "117141.3"
      ]
     },
     "execution_count": 10,
     "metadata": {},
     "output_type": "execute_result"
    }
   ],
   "source": [
    "len(train_df)*.9"
   ]
  },
  {
   "cell_type": "code",
   "execution_count": 11,
   "metadata": {},
   "outputs": [],
   "source": [
    "thresh = len(train_df) * .9\n",
    "train_df.dropna(thresh = thresh, axis = 1, inplace = True)"
   ]
  },
  {
   "cell_type": "code",
   "execution_count": 12,
   "metadata": {},
   "outputs": [
    {
     "data": {
      "text/html": [
       "<div>\n",
       "<style scoped>\n",
       "    .dataframe tbody tr th:only-of-type {\n",
       "        vertical-align: middle;\n",
       "    }\n",
       "\n",
       "    .dataframe tbody tr th {\n",
       "        vertical-align: top;\n",
       "    }\n",
       "\n",
       "    .dataframe thead th {\n",
       "        text-align: right;\n",
       "    }\n",
       "</style>\n",
       "<table border=\"1\" class=\"dataframe\">\n",
       "  <thead>\n",
       "    <tr style=\"text-align: right;\">\n",
       "      <th></th>\n",
       "      <th>encounter_id</th>\n",
       "      <th>age</th>\n",
       "      <th>bmi</th>\n",
       "      <th>elective_surgery</th>\n",
       "      <th>height</th>\n",
       "      <th>pre_icu_los_days</th>\n",
       "      <th>weight</th>\n",
       "      <th>apache_2_diagnosis</th>\n",
       "      <th>apache_3j_diagnosis</th>\n",
       "      <th>apache_post_operative</th>\n",
       "      <th>...</th>\n",
       "      <th>d1_potassium_max</th>\n",
       "      <th>d1_potassium_min</th>\n",
       "      <th>aids</th>\n",
       "      <th>cirrhosis</th>\n",
       "      <th>hepatic_failure</th>\n",
       "      <th>immunosuppression</th>\n",
       "      <th>leukemia</th>\n",
       "      <th>lymphoma</th>\n",
       "      <th>solid_tumor_with_metastasis</th>\n",
       "      <th>diabetes_mellitus</th>\n",
       "    </tr>\n",
       "  </thead>\n",
       "  <tbody>\n",
       "    <tr>\n",
       "      <th>count</th>\n",
       "      <td>130157.000000</td>\n",
       "      <td>125169.000000</td>\n",
       "      <td>125667.000000</td>\n",
       "      <td>130157.000000</td>\n",
       "      <td>128080.000000</td>\n",
       "      <td>130157.000000</td>\n",
       "      <td>126694.000000</td>\n",
       "      <td>128472.000000</td>\n",
       "      <td>129292.000000</td>\n",
       "      <td>130157.000000</td>\n",
       "      <td>...</td>\n",
       "      <td>117611.000000</td>\n",
       "      <td>117611.000000</td>\n",
       "      <td>130157.00000</td>\n",
       "      <td>130157.000000</td>\n",
       "      <td>130157.000000</td>\n",
       "      <td>130157.000000</td>\n",
       "      <td>130157.000000</td>\n",
       "      <td>130157.000000</td>\n",
       "      <td>130157.000000</td>\n",
       "      <td>130157.000000</td>\n",
       "    </tr>\n",
       "    <tr>\n",
       "      <th>mean</th>\n",
       "      <td>213000.856519</td>\n",
       "      <td>61.995103</td>\n",
       "      <td>29.110260</td>\n",
       "      <td>0.189840</td>\n",
       "      <td>169.607219</td>\n",
       "      <td>0.839933</td>\n",
       "      <td>83.791104</td>\n",
       "      <td>185.492683</td>\n",
       "      <td>565.994296</td>\n",
       "      <td>0.207111</td>\n",
       "      <td>...</td>\n",
       "      <td>4.253053</td>\n",
       "      <td>3.929256</td>\n",
       "      <td>0.00103</td>\n",
       "      <td>0.016081</td>\n",
       "      <td>0.013599</td>\n",
       "      <td>0.025669</td>\n",
       "      <td>0.007307</td>\n",
       "      <td>0.004187</td>\n",
       "      <td>0.020852</td>\n",
       "      <td>0.216285</td>\n",
       "    </tr>\n",
       "    <tr>\n",
       "      <th>std</th>\n",
       "      <td>38109.828146</td>\n",
       "      <td>16.822880</td>\n",
       "      <td>8.262776</td>\n",
       "      <td>0.392176</td>\n",
       "      <td>10.833085</td>\n",
       "      <td>2.485337</td>\n",
       "      <td>24.963063</td>\n",
       "      <td>85.858208</td>\n",
       "      <td>466.510850</td>\n",
       "      <td>0.405238</td>\n",
       "      <td>...</td>\n",
       "      <td>0.666942</td>\n",
       "      <td>0.579459</td>\n",
       "      <td>0.03207</td>\n",
       "      <td>0.125786</td>\n",
       "      <td>0.115819</td>\n",
       "      <td>0.158146</td>\n",
       "      <td>0.085166</td>\n",
       "      <td>0.064574</td>\n",
       "      <td>0.142888</td>\n",
       "      <td>0.411712</td>\n",
       "    </tr>\n",
       "    <tr>\n",
       "      <th>min</th>\n",
       "      <td>147000.000000</td>\n",
       "      <td>0.000000</td>\n",
       "      <td>14.844926</td>\n",
       "      <td>0.000000</td>\n",
       "      <td>137.200000</td>\n",
       "      <td>-0.250000</td>\n",
       "      <td>38.600000</td>\n",
       "      <td>101.000000</td>\n",
       "      <td>0.010000</td>\n",
       "      <td>0.000000</td>\n",
       "      <td>...</td>\n",
       "      <td>2.800000</td>\n",
       "      <td>2.400000</td>\n",
       "      <td>0.00000</td>\n",
       "      <td>0.000000</td>\n",
       "      <td>0.000000</td>\n",
       "      <td>0.000000</td>\n",
       "      <td>0.000000</td>\n",
       "      <td>0.000000</td>\n",
       "      <td>0.000000</td>\n",
       "      <td>0.000000</td>\n",
       "    </tr>\n",
       "    <tr>\n",
       "      <th>25%</th>\n",
       "      <td>180001.000000</td>\n",
       "      <td>52.000000</td>\n",
       "      <td>23.598006</td>\n",
       "      <td>0.000000</td>\n",
       "      <td>162.500000</td>\n",
       "      <td>0.045833</td>\n",
       "      <td>66.500000</td>\n",
       "      <td>113.000000</td>\n",
       "      <td>204.010000</td>\n",
       "      <td>0.000000</td>\n",
       "      <td>...</td>\n",
       "      <td>3.800000</td>\n",
       "      <td>3.600000</td>\n",
       "      <td>0.00000</td>\n",
       "      <td>0.000000</td>\n",
       "      <td>0.000000</td>\n",
       "      <td>0.000000</td>\n",
       "      <td>0.000000</td>\n",
       "      <td>0.000000</td>\n",
       "      <td>0.000000</td>\n",
       "      <td>0.000000</td>\n",
       "    </tr>\n",
       "    <tr>\n",
       "      <th>50%</th>\n",
       "      <td>213014.000000</td>\n",
       "      <td>64.000000</td>\n",
       "      <td>27.564749</td>\n",
       "      <td>0.000000</td>\n",
       "      <td>170.100000</td>\n",
       "      <td>0.155556</td>\n",
       "      <td>80.000000</td>\n",
       "      <td>122.000000</td>\n",
       "      <td>409.020000</td>\n",
       "      <td>0.000000</td>\n",
       "      <td>...</td>\n",
       "      <td>4.200000</td>\n",
       "      <td>3.900000</td>\n",
       "      <td>0.00000</td>\n",
       "      <td>0.000000</td>\n",
       "      <td>0.000000</td>\n",
       "      <td>0.000000</td>\n",
       "      <td>0.000000</td>\n",
       "      <td>0.000000</td>\n",
       "      <td>0.000000</td>\n",
       "      <td>0.000000</td>\n",
       "    </tr>\n",
       "    <tr>\n",
       "      <th>75%</th>\n",
       "      <td>246002.000000</td>\n",
       "      <td>75.000000</td>\n",
       "      <td>32.803127</td>\n",
       "      <td>0.000000</td>\n",
       "      <td>177.800000</td>\n",
       "      <td>0.423611</td>\n",
       "      <td>96.800000</td>\n",
       "      <td>301.000000</td>\n",
       "      <td>703.030000</td>\n",
       "      <td>0.000000</td>\n",
       "      <td>...</td>\n",
       "      <td>4.600000</td>\n",
       "      <td>4.300000</td>\n",
       "      <td>0.00000</td>\n",
       "      <td>0.000000</td>\n",
       "      <td>0.000000</td>\n",
       "      <td>0.000000</td>\n",
       "      <td>0.000000</td>\n",
       "      <td>0.000000</td>\n",
       "      <td>0.000000</td>\n",
       "      <td>0.000000</td>\n",
       "    </tr>\n",
       "    <tr>\n",
       "      <th>max</th>\n",
       "      <td>279000.000000</td>\n",
       "      <td>89.000000</td>\n",
       "      <td>67.814990</td>\n",
       "      <td>1.000000</td>\n",
       "      <td>195.590000</td>\n",
       "      <td>175.627778</td>\n",
       "      <td>186.000000</td>\n",
       "      <td>308.000000</td>\n",
       "      <td>2201.050000</td>\n",
       "      <td>1.000000</td>\n",
       "      <td>...</td>\n",
       "      <td>7.000000</td>\n",
       "      <td>5.800000</td>\n",
       "      <td>1.00000</td>\n",
       "      <td>1.000000</td>\n",
       "      <td>1.000000</td>\n",
       "      <td>1.000000</td>\n",
       "      <td>1.000000</td>\n",
       "      <td>1.000000</td>\n",
       "      <td>1.000000</td>\n",
       "      <td>1.000000</td>\n",
       "    </tr>\n",
       "  </tbody>\n",
       "</table>\n",
       "<p>8 rows × 69 columns</p>\n",
       "</div>"
      ],
      "text/plain": [
       "        encounter_id            age            bmi  elective_surgery  \\\n",
       "count  130157.000000  125169.000000  125667.000000     130157.000000   \n",
       "mean   213000.856519      61.995103      29.110260          0.189840   \n",
       "std     38109.828146      16.822880       8.262776          0.392176   \n",
       "min    147000.000000       0.000000      14.844926          0.000000   \n",
       "25%    180001.000000      52.000000      23.598006          0.000000   \n",
       "50%    213014.000000      64.000000      27.564749          0.000000   \n",
       "75%    246002.000000      75.000000      32.803127          0.000000   \n",
       "max    279000.000000      89.000000      67.814990          1.000000   \n",
       "\n",
       "              height  pre_icu_los_days         weight  apache_2_diagnosis  \\\n",
       "count  128080.000000     130157.000000  126694.000000       128472.000000   \n",
       "mean      169.607219          0.839933      83.791104          185.492683   \n",
       "std        10.833085          2.485337      24.963063           85.858208   \n",
       "min       137.200000         -0.250000      38.600000          101.000000   \n",
       "25%       162.500000          0.045833      66.500000          113.000000   \n",
       "50%       170.100000          0.155556      80.000000          122.000000   \n",
       "75%       177.800000          0.423611      96.800000          301.000000   \n",
       "max       195.590000        175.627778     186.000000          308.000000   \n",
       "\n",
       "       apache_3j_diagnosis  apache_post_operative  ...  d1_potassium_max  \\\n",
       "count        129292.000000          130157.000000  ...     117611.000000   \n",
       "mean            565.994296               0.207111  ...          4.253053   \n",
       "std             466.510850               0.405238  ...          0.666942   \n",
       "min               0.010000               0.000000  ...          2.800000   \n",
       "25%             204.010000               0.000000  ...          3.800000   \n",
       "50%             409.020000               0.000000  ...          4.200000   \n",
       "75%             703.030000               0.000000  ...          4.600000   \n",
       "max            2201.050000               1.000000  ...          7.000000   \n",
       "\n",
       "       d1_potassium_min          aids      cirrhosis  hepatic_failure  \\\n",
       "count     117611.000000  130157.00000  130157.000000    130157.000000   \n",
       "mean           3.929256       0.00103       0.016081         0.013599   \n",
       "std            0.579459       0.03207       0.125786         0.115819   \n",
       "min            2.400000       0.00000       0.000000         0.000000   \n",
       "25%            3.600000       0.00000       0.000000         0.000000   \n",
       "50%            3.900000       0.00000       0.000000         0.000000   \n",
       "75%            4.300000       0.00000       0.000000         0.000000   \n",
       "max            5.800000       1.00000       1.000000         1.000000   \n",
       "\n",
       "       immunosuppression       leukemia       lymphoma  \\\n",
       "count      130157.000000  130157.000000  130157.000000   \n",
       "mean            0.025669       0.007307       0.004187   \n",
       "std             0.158146       0.085166       0.064574   \n",
       "min             0.000000       0.000000       0.000000   \n",
       "25%             0.000000       0.000000       0.000000   \n",
       "50%             0.000000       0.000000       0.000000   \n",
       "75%             0.000000       0.000000       0.000000   \n",
       "max             1.000000       1.000000       1.000000   \n",
       "\n",
       "       solid_tumor_with_metastasis  diabetes_mellitus  \n",
       "count                130157.000000      130157.000000  \n",
       "mean                      0.020852           0.216285  \n",
       "std                       0.142888           0.411712  \n",
       "min                       0.000000           0.000000  \n",
       "25%                       0.000000           0.000000  \n",
       "50%                       0.000000           0.000000  \n",
       "75%                       0.000000           0.000000  \n",
       "max                       1.000000           1.000000  \n",
       "\n",
       "[8 rows x 69 columns]"
      ]
     },
     "execution_count": 12,
     "metadata": {},
     "output_type": "execute_result"
    }
   ],
   "source": [
    "train_df.describe()"
   ]
  },
  {
   "cell_type": "code",
   "execution_count": 13,
   "metadata": {},
   "outputs": [
    {
     "data": {
      "text/plain": [
       "encounter_id                     int64\n",
       "age                            float64\n",
       "bmi                            float64\n",
       "elective_surgery                 int64\n",
       "height                         float64\n",
       "pre_icu_los_days               float64\n",
       "weight                         float64\n",
       "apache_2_diagnosis             float64\n",
       "apache_3j_diagnosis            float64\n",
       "apache_post_operative            int64\n",
       "arf_apache                       int64\n",
       "gcs_eyes_apache                float64\n",
       "gcs_motor_apache               float64\n",
       "gcs_unable_apache              float64\n",
       "gcs_verbal_apache              float64\n",
       "heart_rate_apache              float64\n",
       "intubated_apache                 int64\n",
       "map_apache                     float64\n",
       "resprate_apache                float64\n",
       "temp_apache                    float64\n",
       "ventilated_apache                int64\n",
       "d1_diasbp_max                  float64\n",
       "d1_diasbp_min                  float64\n",
       "d1_diasbp_noninvasive_max      float64\n",
       "d1_diasbp_noninvasive_min      float64\n",
       "d1_heartrate_max               float64\n",
       "d1_heartrate_min               float64\n",
       "d1_mbp_max                     float64\n",
       "d1_mbp_min                     float64\n",
       "d1_mbp_noninvasive_max         float64\n",
       "d1_mbp_noninvasive_min         float64\n",
       "d1_resprate_max                float64\n",
       "d1_resprate_min                float64\n",
       "d1_spo2_max                    float64\n",
       "d1_spo2_min                    float64\n",
       "d1_sysbp_max                   float64\n",
       "d1_sysbp_min                   float64\n",
       "d1_sysbp_noninvasive_max       float64\n",
       "d1_sysbp_noninvasive_min       float64\n",
       "d1_temp_max                    float64\n",
       "d1_temp_min                    float64\n",
       "h1_diasbp_max                  float64\n",
       "h1_diasbp_min                  float64\n",
       "h1_diasbp_noninvasive_max      float64\n",
       "h1_diasbp_noninvasive_min      float64\n",
       "h1_heartrate_max               float64\n",
       "h1_heartrate_min               float64\n",
       "h1_mbp_max                     float64\n",
       "h1_mbp_min                     float64\n",
       "h1_resprate_max                float64\n",
       "h1_resprate_min                float64\n",
       "h1_spo2_max                    float64\n",
       "h1_spo2_min                    float64\n",
       "h1_sysbp_max                   float64\n",
       "h1_sysbp_min                   float64\n",
       "h1_sysbp_noninvasive_max       float64\n",
       "h1_sysbp_noninvasive_min       float64\n",
       "d1_glucose_max                 float64\n",
       "d1_glucose_min                 float64\n",
       "d1_potassium_max               float64\n",
       "d1_potassium_min               float64\n",
       "aids                             int64\n",
       "cirrhosis                        int64\n",
       "hepatic_failure                  int64\n",
       "immunosuppression                int64\n",
       "leukemia                         int64\n",
       "lymphoma                         int64\n",
       "solid_tumor_with_metastasis      int64\n",
       "diabetes_mellitus                int64\n",
       "dtype: object"
      ]
     },
     "execution_count": 13,
     "metadata": {},
     "output_type": "execute_result"
    }
   ],
   "source": [
    "train_df.dtypes"
   ]
  },
  {
   "cell_type": "code",
   "execution_count": 14,
   "metadata": {},
   "outputs": [],
   "source": [
    "#replacing missing age values with age mean\n",
    "train_df['age'].replace(0, train_df['age'].mean())\n",
    "train_df.fillna(train_df.mean(), inplace = True)"
   ]
  },
  {
   "cell_type": "code",
   "execution_count": 103,
   "metadata": {},
   "outputs": [],
   "source": [
    "# Identifying colinearity\n",
    "corr = train_df.corr()"
   ]
  },
  {
   "cell_type": "code",
   "execution_count": 104,
   "metadata": {},
   "outputs": [],
   "source": [
    "co_pairs = corr.reset_index().melt(id_vars=\"index\").query('1 > value > abs(.69)')"
   ]
  },
  {
   "cell_type": "code",
   "execution_count": 105,
   "metadata": {},
   "outputs": [
    {
     "data": {
      "text/html": [
       "<div>\n",
       "<style scoped>\n",
       "    .dataframe tbody tr th:only-of-type {\n",
       "        vertical-align: middle;\n",
       "    }\n",
       "\n",
       "    .dataframe tbody tr th {\n",
       "        vertical-align: top;\n",
       "    }\n",
       "\n",
       "    .dataframe thead th {\n",
       "        text-align: right;\n",
       "    }\n",
       "</style>\n",
       "<table border=\"1\" class=\"dataframe\">\n",
       "  <thead>\n",
       "    <tr style=\"text-align: right;\">\n",
       "      <th></th>\n",
       "      <th>index</th>\n",
       "      <th>variable</th>\n",
       "      <th>value</th>\n",
       "    </tr>\n",
       "  </thead>\n",
       "  <tbody>\n",
       "  </tbody>\n",
       "</table>\n",
       "</div>"
      ],
      "text/plain": [
       "Empty DataFrame\n",
       "Columns: [index, variable, value]\n",
       "Index: []"
      ]
     },
     "execution_count": 105,
     "metadata": {},
     "output_type": "execute_result"
    }
   ],
   "source": [
    "co_pairs"
   ]
  },
  {
   "cell_type": "code",
   "execution_count": 102,
   "metadata": {},
   "outputs": [],
   "source": [
    "drop_list = ['h1_sysbp_noninvasive_max', 'h1_sysbp_max', 'h1_mbp_min', 'h1_heartrate_max', 'd1_sysbp_noninvasive_min',\n",
    "             'd1_sysbp_noninvasive_max', 'h1_mbp_max', 'd1_mbp_noninvasive_min', 'd1_mbp_noninvasive_max', 'd1_mbp_min', \n",
    "             'd1_mbp_max', 'weight', 'elective_surgery', 'apache_post_operative', 'gcs_verbal_apache', 'd1_heartrate_max',\n",
    "            'd1_temp_min', 'gcs_motor_apache','h1_diasbp_min','d1_diasbp_min','h1_diasbp_max','h1_sysbp_min']\n",
    "train_df.drop([drop_list], axis = 1, inplace = True)"
   ]
  },
  {
   "cell_type": "code",
   "execution_count": null,
   "metadata": {},
   "outputs": [],
   "source": [
    "# Factor Analysis\n",
    "\n",
    "X = train_df.iloc[:,1:-1]\n",
    "y = train_df.iloc[:,-1]\n",
    "\n",
    "transformer = FactorAnalysis(random_state=0)\n",
    "\n",
    "X_transformed = transformer.fit_transform(X)"
   ]
  },
  {
   "cell_type": "code",
   "execution_count": null,
   "metadata": {},
   "outputs": [],
   "source": [
    "X_transformed"
   ]
  },
  {
   "cell_type": "code",
   "execution_count": null,
   "metadata": {},
   "outputs": [],
   "source": [
    "#Random Forest Feature Selection\n",
    "\n",
    "from sklearn.feature_selection import SelectFromModel\n",
    "from sklearn.ensemble import RandomForestClassifier"
   ]
  },
  {
   "cell_type": "code",
   "execution_count": null,
   "metadata": {},
   "outputs": [],
   "source": [
    "labels= train_df.iloc[:,1:-1].columns\n",
    "\n",
    "labels = pd.DataFrame(columns=labels)"
   ]
  },
  {
   "cell_type": "code",
   "execution_count": null,
   "metadata": {},
   "outputs": [],
   "source": [
    "X = train_df.iloc[:,1:-1].values\n",
    "y = train_df.iloc[:,-1].values"
   ]
  },
  {
   "cell_type": "code",
   "execution_count": null,
   "metadata": {},
   "outputs": [],
   "source": [
    "sel = SelectFromModel(RandomForestClassifier(n_estimators=100))"
   ]
  },
  {
   "cell_type": "code",
   "execution_count": null,
   "metadata": {},
   "outputs": [],
   "source": [
    "sel.fit(X,y)"
   ]
  },
  {
   "cell_type": "code",
   "execution_count": null,
   "metadata": {},
   "outputs": [],
   "source": [
    "#number of featuers selected\n",
    "selected_feat = labels.columns[(sel.get_support())]\n",
    "len(selected_feat)"
   ]
  },
  {
   "cell_type": "code",
   "execution_count": null,
   "metadata": {},
   "outputs": [],
   "source": [
    "#name of selected featuers\n",
    "print(selected_feat)"
   ]
  },
  {
   "cell_type": "code",
   "execution_count": null,
   "metadata": {},
   "outputs": [],
   "source": [
    "df = train_df[['encounter_id','diabetes_mellitus','age', 'bmi', 'height', 'pre_icu_los_days', 'weight',\n",
    "       'apache_2_diagnosis', 'apache_3j_diagnosis', 'heart_rate_apache',\n",
    "       'map_apache', 'resprate_apache', 'd1_heartrate_max', 'd1_heartrate_min',\n",
    "       'd1_resprate_max', 'd1_sysbp_max', 'd1_sysbp_min',\n",
    "       'd1_sysbp_noninvasive_max', 'd1_sysbp_noninvasive_min', 'd1_temp_max',\n",
    "       'h1_heartrate_max', 'h1_heartrate_min', 'h1_sysbp_max', 'h1_sysbp_min',\n",
    "       'd1_glucose_max', 'd1_glucose_min', 'd1_potassium_max',\n",
    "       'd1_potassium_min']]"
   ]
  },
  {
   "cell_type": "code",
   "execution_count": null,
   "metadata": {},
   "outputs": [],
   "source": [
    "df = train_df"
   ]
  },
  {
   "cell_type": "code",
   "execution_count": 107,
   "metadata": {},
   "outputs": [
    {
     "data": {
      "text/html": [
       "<div>\n",
       "<style scoped>\n",
       "    .dataframe tbody tr th:only-of-type {\n",
       "        vertical-align: middle;\n",
       "    }\n",
       "\n",
       "    .dataframe tbody tr th {\n",
       "        vertical-align: top;\n",
       "    }\n",
       "\n",
       "    .dataframe thead th {\n",
       "        text-align: right;\n",
       "    }\n",
       "</style>\n",
       "<table border=\"1\" class=\"dataframe\">\n",
       "  <thead>\n",
       "    <tr style=\"text-align: right;\">\n",
       "      <th></th>\n",
       "      <th>encounter_id</th>\n",
       "      <th>age</th>\n",
       "      <th>bmi</th>\n",
       "      <th>height</th>\n",
       "      <th>pre_icu_los_days</th>\n",
       "      <th>apache_2_diagnosis</th>\n",
       "      <th>apache_3j_diagnosis</th>\n",
       "      <th>arf_apache</th>\n",
       "      <th>gcs_eyes_apache</th>\n",
       "      <th>gcs_unable_apache</th>\n",
       "      <th>...</th>\n",
       "      <th>d1_potassium_max</th>\n",
       "      <th>d1_potassium_min</th>\n",
       "      <th>aids</th>\n",
       "      <th>cirrhosis</th>\n",
       "      <th>hepatic_failure</th>\n",
       "      <th>immunosuppression</th>\n",
       "      <th>leukemia</th>\n",
       "      <th>lymphoma</th>\n",
       "      <th>solid_tumor_with_metastasis</th>\n",
       "      <th>diabetes_mellitus</th>\n",
       "    </tr>\n",
       "  </thead>\n",
       "  <tbody>\n",
       "    <tr>\n",
       "      <th>0</th>\n",
       "      <td>214826</td>\n",
       "      <td>68.0</td>\n",
       "      <td>22.732803</td>\n",
       "      <td>180.3</td>\n",
       "      <td>0.541667</td>\n",
       "      <td>113.0</td>\n",
       "      <td>502.01</td>\n",
       "      <td>0</td>\n",
       "      <td>3.00000</td>\n",
       "      <td>0.000000</td>\n",
       "      <td>...</td>\n",
       "      <td>4.000000</td>\n",
       "      <td>3.400000</td>\n",
       "      <td>0</td>\n",
       "      <td>0</td>\n",
       "      <td>0</td>\n",
       "      <td>0</td>\n",
       "      <td>0</td>\n",
       "      <td>0</td>\n",
       "      <td>0</td>\n",
       "      <td>1</td>\n",
       "    </tr>\n",
       "    <tr>\n",
       "      <th>1</th>\n",
       "      <td>246060</td>\n",
       "      <td>77.0</td>\n",
       "      <td>27.421875</td>\n",
       "      <td>160.0</td>\n",
       "      <td>0.927778</td>\n",
       "      <td>108.0</td>\n",
       "      <td>203.01</td>\n",
       "      <td>0</td>\n",
       "      <td>1.00000</td>\n",
       "      <td>0.000000</td>\n",
       "      <td>...</td>\n",
       "      <td>4.200000</td>\n",
       "      <td>3.800000</td>\n",
       "      <td>0</td>\n",
       "      <td>0</td>\n",
       "      <td>0</td>\n",
       "      <td>0</td>\n",
       "      <td>0</td>\n",
       "      <td>0</td>\n",
       "      <td>0</td>\n",
       "      <td>1</td>\n",
       "    </tr>\n",
       "    <tr>\n",
       "      <th>2</th>\n",
       "      <td>276985</td>\n",
       "      <td>25.0</td>\n",
       "      <td>31.952749</td>\n",
       "      <td>172.7</td>\n",
       "      <td>0.000694</td>\n",
       "      <td>122.0</td>\n",
       "      <td>703.03</td>\n",
       "      <td>0</td>\n",
       "      <td>3.00000</td>\n",
       "      <td>0.000000</td>\n",
       "      <td>...</td>\n",
       "      <td>4.253053</td>\n",
       "      <td>3.929256</td>\n",
       "      <td>0</td>\n",
       "      <td>0</td>\n",
       "      <td>0</td>\n",
       "      <td>0</td>\n",
       "      <td>0</td>\n",
       "      <td>0</td>\n",
       "      <td>0</td>\n",
       "      <td>0</td>\n",
       "    </tr>\n",
       "    <tr>\n",
       "      <th>3</th>\n",
       "      <td>262220</td>\n",
       "      <td>81.0</td>\n",
       "      <td>22.635548</td>\n",
       "      <td>165.1</td>\n",
       "      <td>0.000694</td>\n",
       "      <td>203.0</td>\n",
       "      <td>1206.03</td>\n",
       "      <td>0</td>\n",
       "      <td>4.00000</td>\n",
       "      <td>0.000000</td>\n",
       "      <td>...</td>\n",
       "      <td>5.000000</td>\n",
       "      <td>3.500000</td>\n",
       "      <td>0</td>\n",
       "      <td>0</td>\n",
       "      <td>0</td>\n",
       "      <td>0</td>\n",
       "      <td>0</td>\n",
       "      <td>0</td>\n",
       "      <td>0</td>\n",
       "      <td>0</td>\n",
       "    </tr>\n",
       "    <tr>\n",
       "      <th>4</th>\n",
       "      <td>201746</td>\n",
       "      <td>19.0</td>\n",
       "      <td>29.110260</td>\n",
       "      <td>188.0</td>\n",
       "      <td>0.073611</td>\n",
       "      <td>119.0</td>\n",
       "      <td>601.01</td>\n",
       "      <td>0</td>\n",
       "      <td>3.48829</td>\n",
       "      <td>0.011441</td>\n",
       "      <td>...</td>\n",
       "      <td>4.253053</td>\n",
       "      <td>3.929256</td>\n",
       "      <td>0</td>\n",
       "      <td>0</td>\n",
       "      <td>0</td>\n",
       "      <td>0</td>\n",
       "      <td>0</td>\n",
       "      <td>0</td>\n",
       "      <td>0</td>\n",
       "      <td>0</td>\n",
       "    </tr>\n",
       "  </tbody>\n",
       "</table>\n",
       "<p>5 rows × 46 columns</p>\n",
       "</div>"
      ],
      "text/plain": [
       "   encounter_id   age        bmi  height  pre_icu_los_days  \\\n",
       "0        214826  68.0  22.732803   180.3          0.541667   \n",
       "1        246060  77.0  27.421875   160.0          0.927778   \n",
       "2        276985  25.0  31.952749   172.7          0.000694   \n",
       "3        262220  81.0  22.635548   165.1          0.000694   \n",
       "4        201746  19.0  29.110260   188.0          0.073611   \n",
       "\n",
       "   apache_2_diagnosis  apache_3j_diagnosis  arf_apache  gcs_eyes_apache  \\\n",
       "0               113.0               502.01           0          3.00000   \n",
       "1               108.0               203.01           0          1.00000   \n",
       "2               122.0               703.03           0          3.00000   \n",
       "3               203.0              1206.03           0          4.00000   \n",
       "4               119.0               601.01           0          3.48829   \n",
       "\n",
       "   gcs_unable_apache  ...  d1_potassium_max  d1_potassium_min  aids  \\\n",
       "0           0.000000  ...          4.000000          3.400000     0   \n",
       "1           0.000000  ...          4.200000          3.800000     0   \n",
       "2           0.000000  ...          4.253053          3.929256     0   \n",
       "3           0.000000  ...          5.000000          3.500000     0   \n",
       "4           0.011441  ...          4.253053          3.929256     0   \n",
       "\n",
       "   cirrhosis  hepatic_failure  immunosuppression  leukemia  lymphoma  \\\n",
       "0          0                0                  0         0         0   \n",
       "1          0                0                  0         0         0   \n",
       "2          0                0                  0         0         0   \n",
       "3          0                0                  0         0         0   \n",
       "4          0                0                  0         0         0   \n",
       "\n",
       "   solid_tumor_with_metastasis  diabetes_mellitus  \n",
       "0                            0                  1  \n",
       "1                            0                  1  \n",
       "2                            0                  0  \n",
       "3                            0                  0  \n",
       "4                            0                  0  \n",
       "\n",
       "[5 rows x 46 columns]"
      ]
     },
     "execution_count": 107,
     "metadata": {},
     "output_type": "execute_result"
    }
   ],
   "source": [
    "train_df.head()"
   ]
  },
  {
   "cell_type": "code",
   "execution_count": null,
   "metadata": {},
   "outputs": [],
   "source": [
    "train_df.head()"
   ]
  },
  {
   "cell_type": "code",
   "execution_count": 108,
   "metadata": {},
   "outputs": [],
   "source": [
    "#splitting the final df into train and test sets\n",
    "X = train_df.iloc[:,1:-1].values\n",
    "y = train_df.iloc[:,-1].values\n",
    "X_train, X_test, y_train, y_test = train_test_split(X, y, test_size =0.2)"
   ]
  },
  {
   "cell_type": "code",
   "execution_count": null,
   "metadata": {},
   "outputs": [],
   "source": [
    "#linear Regression Model\n",
    "from sklearn.linear_model import LinearRegression\n",
    "regressor = LinearRegression()"
   ]
  },
  {
   "cell_type": "code",
   "execution_count": null,
   "metadata": {},
   "outputs": [],
   "source": [
    "regressor.fit(X_train, y_train)"
   ]
  },
  {
   "cell_type": "code",
   "execution_count": null,
   "metadata": {},
   "outputs": [],
   "source": [
    "regressor.score(X,y)"
   ]
  },
  {
   "cell_type": "code",
   "execution_count": null,
   "metadata": {},
   "outputs": [],
   "source": [
    "y_pred = regressor.predict(X_test)"
   ]
  },
  {
   "cell_type": "code",
   "execution_count": null,
   "metadata": {},
   "outputs": [],
   "source": [
    "y_test"
   ]
  },
  {
   "cell_type": "code",
   "execution_count": null,
   "metadata": {},
   "outputs": [],
   "source": [
    "output = zip(y_test, y_pred)"
   ]
  },
  {
   "cell_type": "code",
   "execution_count": null,
   "metadata": {},
   "outputs": [],
   "source": [
    "output = pd.DataFrame(output)"
   ]
  },
  {
   "cell_type": "code",
   "execution_count": null,
   "metadata": {},
   "outputs": [],
   "source": [
    "output"
   ]
  },
  {
   "cell_type": "code",
   "execution_count": null,
   "metadata": {},
   "outputs": [],
   "source": [
    "from sklearn import metrics\n",
    "print('Mean Absolute Error:', metrics.mean_absolute_error(y_test, y_pred))\n",
    "print('Mean Squared Error:', metrics.mean_squared_error(y_test, y_pred))\n",
    "print('Root Mean Squared Error:', np.sqrt(metrics.mean_squared_error(y_test, y_pred)))"
   ]
  },
  {
   "cell_type": "code",
   "execution_count": 109,
   "metadata": {},
   "outputs": [],
   "source": [
    "from sklearn.linear_model import LogisticRegression\n",
    "model = LogisticRegression(solver='liblinear', random_state=0)"
   ]
  },
  {
   "cell_type": "code",
   "execution_count": 110,
   "metadata": {},
   "outputs": [
    {
     "data": {
      "text/plain": [
       "LogisticRegression(C=1.0, class_weight=None, dual=False, fit_intercept=True,\n",
       "                   intercept_scaling=1, l1_ratio=None, max_iter=100,\n",
       "                   multi_class='warn', n_jobs=None, penalty='l2',\n",
       "                   random_state=0, solver='liblinear', tol=0.0001, verbose=0,\n",
       "                   warm_start=False)"
      ]
     },
     "execution_count": 110,
     "metadata": {},
     "output_type": "execute_result"
    }
   ],
   "source": [
    "model.fit(X_train, y_train)"
   ]
  },
  {
   "cell_type": "code",
   "execution_count": 111,
   "metadata": {},
   "outputs": [
    {
     "data": {
      "text/plain": [
       "array([[0.92463969, 0.07536031],\n",
       "       [0.95872769, 0.04127231],\n",
       "       [0.92321597, 0.07678403],\n",
       "       ...,\n",
       "       [0.4525735 , 0.5474265 ],\n",
       "       [0.77061723, 0.22938277],\n",
       "       [0.84400527, 0.15599473]])"
      ]
     },
     "execution_count": 111,
     "metadata": {},
     "output_type": "execute_result"
    }
   ],
   "source": [
    "model.predict_proba(X_test)"
   ]
  },
  {
   "cell_type": "code",
   "execution_count": 112,
   "metadata": {},
   "outputs": [],
   "source": [
    "pred = model.predict(X_test)"
   ]
  },
  {
   "cell_type": "code",
   "execution_count": 113,
   "metadata": {},
   "outputs": [],
   "source": [
    "cm = confusion_matrix(y_test, pred)"
   ]
  },
  {
   "cell_type": "code",
   "execution_count": 114,
   "metadata": {},
   "outputs": [
    {
     "data": {
      "text/plain": [
       "array([[19559,   945],\n",
       "       [ 3994,  1534]], dtype=int64)"
      ]
     },
     "execution_count": 114,
     "metadata": {},
     "output_type": "execute_result"
    }
   ],
   "source": [
    "cm"
   ]
  },
  {
   "cell_type": "code",
   "execution_count": 115,
   "metadata": {
    "scrolled": true
   },
   "outputs": [
    {
     "data": {
      "image/png": "[encoded data removed]",
      "text/plain": [
       "<Figure size 576x576 with 1 Axes>"
      ]
     },
     "metadata": {
      "needs_background": "light"
     },
     "output_type": "display_data"
    }
   ],
   "source": [
    "fig, ax = plt.subplots(figsize=(8, 8))\n",
    "ax.imshow(cm)\n",
    "ax.grid(False)\n",
    "ax.xaxis.set(ticks=(0, 1), ticklabels=('Predicted 0s', 'Predicted 1s'))\n",
    "ax.yaxis.set(ticks=(0, 1), ticklabels=('Actual 0s', 'Actual 1s'))\n",
    "ax.set_ylim(1.5, -0.5)\n",
    "for i in range(2):\n",
    "    for j in range(2):\n",
    "        ax.text(j, i, cm[i, j], ha='center', va='center', color='red')\n",
    "plt.show()"
   ]
  },
  {
   "cell_type": "code",
   "execution_count": null,
   "metadata": {},
   "outputs": [],
   "source": [
    "train_df.columns"
   ]
  },
  {
   "cell_type": "code",
   "execution_count": null,
   "metadata": {},
   "outputs": [],
   "source": [
    "column_names = ['encounter_id','age', 'bmi', 'elective_surgery', 'height',\n",
    "       'pre_icu_los_days', 'weight', 'apache_2_diagnosis',\n",
    "       'apache_3j_diagnosis', 'apache_post_operative', 'arf_apache',\n",
    "       'gcs_eyes_apache', 'gcs_motor_apache', 'gcs_unable_apache',\n",
    "       'gcs_verbal_apache', 'heart_rate_apache', 'intubated_apache',\n",
    "       'map_apache', 'resprate_apache', 'temp_apache', 'ventilated_apache',\n",
    "       'd1_diasbp_max', 'd1_diasbp_min', 'd1_diasbp_noninvasive_max',\n",
    "       'd1_diasbp_noninvasive_min', 'd1_heartrate_max', 'd1_heartrate_min',\n",
    "       'd1_mbp_max', 'd1_mbp_min', 'd1_mbp_noninvasive_max',\n",
    "       'd1_mbp_noninvasive_min', 'd1_resprate_max', 'd1_resprate_min',\n",
    "       'd1_spo2_max', 'd1_spo2_min', 'd1_sysbp_max', 'd1_sysbp_min',\n",
    "       'd1_sysbp_noninvasive_max', 'd1_sysbp_noninvasive_min', 'd1_temp_max',\n",
    "       'd1_temp_min', 'h1_diasbp_max', 'h1_diasbp_min',\n",
    "       'h1_diasbp_noninvasive_max', 'h1_diasbp_noninvasive_min',\n",
    "       'h1_heartrate_max', 'h1_heartrate_min', 'h1_mbp_max', 'h1_mbp_min',\n",
    "       'h1_resprate_max', 'h1_resprate_min', 'h1_spo2_max', 'h1_spo2_min',\n",
    "       'h1_sysbp_max', 'h1_sysbp_min', 'h1_sysbp_noninvasive_max',\n",
    "       'h1_sysbp_noninvasive_min', 'd1_glucose_max', 'd1_glucose_min',\n",
    "       'd1_potassium_max', 'd1_potassium_min', 'aids', 'cirrhosis',\n",
    "       'hepatic_failure', 'immunosuppression', 'leukemia', 'lymphoma',\n",
    "       'solid_tumor_with_metastasis']"
   ]
  },
  {
   "cell_type": "code",
   "execution_count": null,
   "metadata": {},
   "outputs": [],
   "source": [
    "unlabeled_df = pd.read_csv(\"UnlabeledWiDS2021.csv\")"
   ]
  },
  {
   "cell_type": "code",
   "execution_count": null,
   "metadata": {},
   "outputs": [],
   "source": [
    "unlabeled_df = unlabeled_df[column_names]"
   ]
  },
  {
   "cell_type": "code",
   "execution_count": null,
   "metadata": {},
   "outputs": [],
   "source": [
    "#replacing missing age values with age mean\n",
    "unlabeled_df['age'].replace(0, train_df['Age'].mean())\n",
    "unlabeled_df.fillna(unlabeled_df.mean(), inplace = True)"
   ]
  },
  {
   "cell_type": "code",
   "execution_count": null,
   "metadata": {},
   "outputs": [],
   "source": []
  },
  {
   "cell_type": "code",
   "execution_count": null,
   "metadata": {},
   "outputs": [],
   "source": []
  },
  {
   "cell_type": "code",
   "execution_count": null,
   "metadata": {},
   "outputs": [],
   "source": []
  },
  {
   "cell_type": "code",
   "execution_count": null,
   "metadata": {},
   "outputs": [],
   "source": [
    "encoder = ce.OneHotEncoder(cols = [\"ethnicity\", \"gender\", \"icu_admit_source\",\n",
    "\"icu_stay_type\",\"icu_type\",\"apache_2_diagnosis\",\"apache_3j_diagnosis\"], handle_unknown='return_nan', return_df=True, use_cat_names=True)"
   ]
  },
  {
   "cell_type": "code",
   "execution_count": null,
   "metadata": {},
   "outputs": [],
   "source": [
    "df_encoded = encoder.fit_transform(train_df)"
   ]
  },
  {
   "cell_type": "code",
   "execution_count": null,
   "metadata": {},
   "outputs": [],
   "source": [
    "df_encoded.head()"
   ]
  },
  {
   "cell_type": "code",
   "execution_count": null,
   "metadata": {},
   "outputs": [],
   "source": [
    "corr = df_encoded.corr()\n",
    "corr"
   ]
  },
  {
   "cell_type": "code",
   "execution_count": null,
   "metadata": {},
   "outputs": [],
   "source": [
    "s = corr.unstack()\n",
    "so = s.sort_values(ascending = False, kind=\"quiksort\")\n",
    "type(so)"
   ]
  },
  {
   "cell_type": "code",
   "execution_count": null,
   "metadata": {},
   "outputs": [],
   "source": [
    "so"
   ]
  },
  {
   "cell_type": "markdown",
   "metadata": {},
   "source": [
    "# Notes"
   ]
  },
  {
   "cell_type": "markdown",
   "metadata": {},
   "source": [
    "Are there areas where we may want to disaggregate the data? ex. it is likely that lab ranges and risk factors different for men vs. women?\n",
    "\n",
    "look at attribute correlation"
   ]
  }
 ],
 "metadata": {
  "kernelspec": {
   "display_name": "Python 3",
   "language": "python",
   "name": "python3"
  },
  "language_info": {
   "codemirror_mode": {
    "name": "ipython",
    "version": 3
   },
   "file_extension": ".py",
   "mimetype": "text/x-python",
   "name": "python",
   "nbconvert_exporter": "python",
   "pygments_lexer": "ipython3",
   "version": "3.7.3"
  }
 },
 "nbformat": 4,
 "nbformat_minor": 2
}
